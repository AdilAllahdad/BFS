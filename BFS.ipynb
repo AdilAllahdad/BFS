{
  "nbformat": 4,
  "nbformat_minor": 0,
  "metadata": {
    "colab": {
      "provenance": []
    },
    "kernelspec": {
      "name": "python3",
      "display_name": "Python 3"
    },
    "language_info": {
      "name": "python"
    }
  },
  "cells": [
    {
      "cell_type": "code",
      "execution_count": null,
      "metadata": {
        "colab": {
          "base_uri": "https://localhost:8080/"
        },
        "id": "QRGUfeswMY_T",
        "outputId": "b0375c2c-e4b6-4efb-c325-c3cf1e3d6cee"
      },
      "outputs": [
        {
          "output_type": "stream",
          "name": "stdout",
          "text": [
            "Shortest path from Islamabad to Karachi is: ['Islamabad', 'Rawalpindi', 'Quetta', 'Karachi']\n"
          ]
        }
      ],
      "source": [
        "from collections import deque\n",
        "\n",
        "def bfs_shortest_path(graph, start, goal):\n",
        "    # Queue to store (city, path to reach it)\n",
        "    queue = deque([[start]])  # Store only the path in the queue\n",
        "    visited = set()  # To keep track of visited cities\n",
        "\n",
        "    while queue:\n",
        "        # Dequeue the current path\n",
        "        path = queue.popleft()\n",
        "        city = path[-1]  # Current city is the last city in the path\n",
        "\n",
        "        # If we reach the goal city, return the path\n",
        "        if city == goal:\n",
        "            return path\n",
        "\n",
        "        # If city not visited, mark it visited\n",
        "        if city not in visited:\n",
        "            visited.add(city)\n",
        "\n",
        "            # Add unvisited neighbors to the queue with the new path\n",
        "            for neighbor in graph[city]:\n",
        "                if neighbor not in visited:\n",
        "                    new_path = path + [neighbor]  # Create new path\n",
        "                    queue.append(new_path)  # Add new path to queue\n",
        "\n",
        "    return None  # If no path is found\n",
        "\n",
        "graph = {\n",
        "    'Islamabad': ['Rawalpindi', 'Lahore', 'Peshawar'],\n",
        "    'Rawalpindi': ['Islamabad', 'Peshawar', 'Quetta'],\n",
        "    'Peshawar': ['Islamabad', 'Rawalpindi', 'Quetta'],\n",
        "    'Lahore': ['Islamabad', 'Multan', 'Quetta'],\n",
        "    'Multan': ['Lahore', 'Karachi', 'Quetta'],\n",
        "    'Quetta': ['Rawalpindi', 'Peshawar', 'Multan', 'Karachi'],\n",
        "    'Karachi': ['Multan', 'Quetta']\n",
        "}\n",
        "\n",
        "start_city = 'Islamabad'\n",
        "end_city = 'Karachi'\n",
        "\n",
        "path = bfs_shortest_path(graph, start_city, end_city)\n",
        "print(\"Shortest path from\", start_city, \"to\", end_city, \"is:\", path)\n"
      ]
    }
  ]
}